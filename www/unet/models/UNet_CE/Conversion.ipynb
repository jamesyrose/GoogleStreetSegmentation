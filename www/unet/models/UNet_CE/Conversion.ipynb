{
 "cells": [
  {
   "cell_type": "code",
   "execution_count": 2,
   "id": "12317ace",
   "metadata": {},
   "outputs": [
    {
     "name": "stdout",
     "output_type": "stream",
     "text": [
      "UNet_CE\n",
      "/home/oem/Documents/GoogleStreetSegmentation/www\n"
     ]
    }
   ],
   "source": [
    "import os\n",
    "import torch \n",
    "curr = os.path.basename(os.getcwd())\n",
    "print(curr)\n",
    "os.chdir(\"../../\")\n",
    "print(os.getcwd())"
   ]
  },
  {
   "cell_type": "code",
   "execution_count": 2,
   "id": "085a55e9",
   "metadata": {},
   "outputs": [
    {
     "name": "stdout",
     "output_type": "stream",
     "text": [
      "31033435\n"
     ]
    },
    {
     "name": "stderr",
     "output_type": "stream",
     "text": [
      "/home/oem/.local/lib/python3.8/site-packages/torch/serialization.py:671: SourceChangeWarning: source code of class 'torch.nn.modules.activation.ReLU' has changed. you can retrieve the original source code by accessing the object's source attribute or set `torch.nn.Module.dump_patches = True` and use the patch tool to revert the changes.\n",
      "  warnings.warn(msg, SourceChangeWarning)\n",
      "/home/oem/.local/lib/python3.8/site-packages/torch/serialization.py:671: SourceChangeWarning: source code of class 'torch.nn.modules.conv.Conv2d' has changed. you can retrieve the original source code by accessing the object's source attribute or set `torch.nn.Module.dump_patches = True` and use the patch tool to revert the changes.\n",
      "  warnings.warn(msg, SourceChangeWarning)\n",
      "/home/oem/.local/lib/python3.8/site-packages/torch/serialization.py:671: SourceChangeWarning: source code of class 'torch.nn.modules.pooling.MaxPool2d' has changed. you can retrieve the original source code by accessing the object's source attribute or set `torch.nn.Module.dump_patches = True` and use the patch tool to revert the changes.\n",
      "  warnings.warn(msg, SourceChangeWarning)\n",
      "/home/oem/.local/lib/python3.8/site-packages/torch/serialization.py:671: SourceChangeWarning: source code of class 'torch.nn.modules.conv.ConvTranspose2d' has changed. you can retrieve the original source code by accessing the object's source attribute or set `torch.nn.Module.dump_patches = True` and use the patch tool to revert the changes.\n",
      "  warnings.warn(msg, SourceChangeWarning)\n"
     ]
    }
   ],
   "source": [
    "map_location=torch.device('cpu')\n",
    "\n",
    "model = torch.load(f\"models/{curr}/best_model\", map_location=map_location)\n",
    "model.cpu()\n",
    "def count_parameters(model):\n",
    "    return sum(p.numel() for p in model.parameters() if p.requires_grad)\n",
    "print(count_parameters(model))\n",
    "\n"
   ]
  },
  {
   "cell_type": "markdown",
   "id": "ef33f321",
   "metadata": {},
   "source": [
    "# Convert to onnx"
   ]
  },
  {
   "cell_type": "code",
   "execution_count": 3,
   "id": "3cc725bf",
   "metadata": {},
   "outputs": [
    {
     "name": "stdout",
     "output_type": "stream",
     "text": [
      "graph(%input.1 : Float(1, 3, 512, 512, strides=[786432, 262144, 512, 1], requires_grad=0, device=cpu),\n",
      "      %conv1_1.weight : Float(64, 3, 3, 3, strides=[27, 9, 3, 1], requires_grad=1, device=cpu),\n",
      "      %conv1_1.bias : Float(64, strides=[1], requires_grad=1, device=cpu),\n",
      "      %conv1_2.weight : Float(64, 64, 3, 3, strides=[576, 9, 3, 1], requires_grad=1, device=cpu),\n",
      "      %conv1_2.bias : Float(64, strides=[1], requires_grad=1, device=cpu),\n",
      "      %conv2_1.weight : Float(128, 64, 3, 3, strides=[576, 9, 3, 1], requires_grad=1, device=cpu),\n",
      "      %conv2_1.bias : Float(128, strides=[1], requires_grad=1, device=cpu),\n",
      "      %conv2_2.weight : Float(128, 128, 3, 3, strides=[1152, 9, 3, 1], requires_grad=1, device=cpu),\n",
      "      %conv2_2.bias : Float(128, strides=[1], requires_grad=1, device=cpu),\n",
      "      %conv3_1.weight : Float(256, 128, 3, 3, strides=[1152, 9, 3, 1], requires_grad=1, device=cpu),\n",
      "      %conv3_1.bias : Float(256, strides=[1], requires_grad=1, device=cpu),\n",
      "      %conv3_2.weight : Float(256, 256, 3, 3, strides=[2304, 9, 3, 1], requires_grad=1, device=cpu),\n",
      "      %conv3_2.bias : Float(256, strides=[1], requires_grad=1, device=cpu),\n",
      "      %conv4_1.weight : Float(512, 256, 3, 3, strides=[2304, 9, 3, 1], requires_grad=1, device=cpu),\n",
      "      %conv4_1.bias : Float(512, strides=[1], requires_grad=1, device=cpu),\n",
      "      %conv4_2.weight : Float(512, 512, 3, 3, strides=[4608, 9, 3, 1], requires_grad=1, device=cpu),\n",
      "      %conv4_2.bias : Float(512, strides=[1], requires_grad=1, device=cpu),\n",
      "      %conv5_1.weight : Float(1024, 512, 3, 3, strides=[4608, 9, 3, 1], requires_grad=1, device=cpu),\n",
      "      %conv5_1.bias : Float(1024, strides=[1], requires_grad=1, device=cpu),\n",
      "      %conv5_2.weight : Float(1024, 1024, 3, 3, strides=[9216, 9, 3, 1], requires_grad=1, device=cpu),\n",
      "      %conv5_2.bias : Float(1024, strides=[1], requires_grad=1, device=cpu),\n",
      "      %deconv1_1.weight : Float(1024, 512, 2, 2, strides=[2048, 4, 2, 1], requires_grad=1, device=cpu),\n",
      "      %deconv1_1.bias : Float(512, strides=[1], requires_grad=1, device=cpu),\n",
      "      %iconv1_1.weight : Float(512, 1024, 3, 3, strides=[9216, 9, 3, 1], requires_grad=1, device=cpu),\n",
      "      %iconv1_1.bias : Float(512, strides=[1], requires_grad=1, device=cpu),\n",
      "      %iconv1_2.weight : Float(512, 512, 3, 3, strides=[4608, 9, 3, 1], requires_grad=1, device=cpu),\n",
      "      %iconv1_2.bias : Float(512, strides=[1], requires_grad=1, device=cpu),\n",
      "      %deconv2_1.weight : Float(512, 256, 2, 2, strides=[1024, 4, 2, 1], requires_grad=1, device=cpu),\n",
      "      %deconv2_1.bias : Float(256, strides=[1], requires_grad=1, device=cpu),\n",
      "      %iconv2_1.weight : Float(256, 512, 3, 3, strides=[4608, 9, 3, 1], requires_grad=1, device=cpu),\n",
      "      %iconv2_1.bias : Float(256, strides=[1], requires_grad=1, device=cpu),\n",
      "      %iconv2_2.weight : Float(256, 256, 3, 3, strides=[2304, 9, 3, 1], requires_grad=1, device=cpu),\n",
      "      %iconv2_2.bias : Float(256, strides=[1], requires_grad=1, device=cpu),\n",
      "      %deconv3_1.weight : Float(256, 128, 2, 2, strides=[512, 4, 2, 1], requires_grad=1, device=cpu),\n",
      "      %deconv3_1.bias : Float(128, strides=[1], requires_grad=1, device=cpu),\n",
      "      %iconv3_1.weight : Float(128, 256, 3, 3, strides=[2304, 9, 3, 1], requires_grad=1, device=cpu),\n",
      "      %iconv3_1.bias : Float(128, strides=[1], requires_grad=1, device=cpu),\n",
      "      %iconv3_2.weight : Float(128, 128, 3, 3, strides=[1152, 9, 3, 1], requires_grad=1, device=cpu),\n",
      "      %iconv3_2.bias : Float(128, strides=[1], requires_grad=1, device=cpu),\n",
      "      %deconv4_1.weight : Float(128, 64, 2, 2, strides=[256, 4, 2, 1], requires_grad=1, device=cpu),\n",
      "      %deconv4_1.bias : Float(64, strides=[1], requires_grad=1, device=cpu),\n",
      "      %iconv4_1.weight : Float(64, 128, 3, 3, strides=[1152, 9, 3, 1], requires_grad=1, device=cpu),\n",
      "      %iconv4_1.bias : Float(64, strides=[1], requires_grad=1, device=cpu),\n",
      "      %iconv4_2.weight : Float(64, 64, 3, 3, strides=[576, 9, 3, 1], requires_grad=1, device=cpu),\n",
      "      %iconv4_2.bias : Float(64, strides=[1], requires_grad=1, device=cpu),\n",
      "      %classifier.weight : Float(27, 64, 1, 1, strides=[64, 1, 1, 1], requires_grad=1, device=cpu),\n",
      "      %classifier.bias : Float(27, strides=[1], requires_grad=1, device=cpu)):\n",
      "  %47 : Float(1, 64, 512, 512, strides=[16777216, 262144, 512, 1], requires_grad=1, device=cpu) = onnx::Conv[dilations=[1, 1], group=1, kernel_shape=[3, 3], pads=[1, 1, 1, 1], strides=[1, 1]](%input.1, %conv1_1.weight, %conv1_1.bias) # /home/oem/.local/lib/python3.8/site-packages/torch/nn/modules/conv.py:439:0\n",
      "  %48 : Float(1, 64, 512, 512, strides=[16777216, 262144, 512, 1], requires_grad=1, device=cpu) = onnx::Relu(%47) # /home/oem/.local/lib/python3.8/site-packages/torch/nn/functional.py:1296:0\n",
      "  %49 : Float(1, 64, 512, 512, strides=[16777216, 262144, 512, 1], requires_grad=1, device=cpu) = onnx::Conv[dilations=[1, 1], group=1, kernel_shape=[3, 3], pads=[1, 1, 1, 1], strides=[1, 1]](%48, %conv1_2.weight, %conv1_2.bias) # /home/oem/.local/lib/python3.8/site-packages/torch/nn/modules/conv.py:439:0\n",
      "  %50 : Float(1, 64, 512, 512, strides=[16777216, 262144, 512, 1], requires_grad=1, device=cpu) = onnx::Relu(%49) # /home/oem/.local/lib/python3.8/site-packages/torch/nn/functional.py:1296:0\n",
      "  %51 : Float(1, 64, 256, 256, strides=[4194304, 65536, 256, 1], requires_grad=1, device=cpu) = onnx::MaxPool[kernel_shape=[2, 2], pads=[0, 0, 0, 0], strides=[2, 2]](%50) # /home/oem/.local/lib/python3.8/site-packages/torch/nn/functional.py:718:0\n",
      "  %52 : Float(1, 128, 256, 256, strides=[8388608, 65536, 256, 1], requires_grad=1, device=cpu) = onnx::Conv[dilations=[1, 1], group=1, kernel_shape=[3, 3], pads=[1, 1, 1, 1], strides=[1, 1]](%51, %conv2_1.weight, %conv2_1.bias) # /home/oem/.local/lib/python3.8/site-packages/torch/nn/modules/conv.py:439:0\n",
      "  %53 : Float(1, 128, 256, 256, strides=[8388608, 65536, 256, 1], requires_grad=1, device=cpu) = onnx::Relu(%52) # /home/oem/.local/lib/python3.8/site-packages/torch/nn/functional.py:1296:0\n",
      "  %54 : Float(1, 128, 256, 256, strides=[8388608, 65536, 256, 1], requires_grad=1, device=cpu) = onnx::Conv[dilations=[1, 1], group=1, kernel_shape=[3, 3], pads=[1, 1, 1, 1], strides=[1, 1]](%53, %conv2_2.weight, %conv2_2.bias) # /home/oem/.local/lib/python3.8/site-packages/torch/nn/modules/conv.py:439:0\n",
      "  %55 : Float(1, 128, 256, 256, strides=[8388608, 65536, 256, 1], requires_grad=1, device=cpu) = onnx::Relu(%54) # /home/oem/.local/lib/python3.8/site-packages/torch/nn/functional.py:1296:0\n",
      "  %56 : Float(1, 128, 128, 128, strides=[2097152, 16384, 128, 1], requires_grad=1, device=cpu) = onnx::MaxPool[kernel_shape=[2, 2], pads=[0, 0, 0, 0], strides=[2, 2]](%55) # /home/oem/.local/lib/python3.8/site-packages/torch/nn/functional.py:718:0\n",
      "  %57 : Float(1, 256, 128, 128, strides=[4194304, 16384, 128, 1], requires_grad=1, device=cpu) = onnx::Conv[dilations=[1, 1], group=1, kernel_shape=[3, 3], pads=[1, 1, 1, 1], strides=[1, 1]](%56, %conv3_1.weight, %conv3_1.bias) # /home/oem/.local/lib/python3.8/site-packages/torch/nn/modules/conv.py:439:0\n",
      "  %58 : Float(1, 256, 128, 128, strides=[4194304, 16384, 128, 1], requires_grad=1, device=cpu) = onnx::Relu(%57) # /home/oem/.local/lib/python3.8/site-packages/torch/nn/functional.py:1296:0\n",
      "  %59 : Float(1, 256, 128, 128, strides=[4194304, 16384, 128, 1], requires_grad=1, device=cpu) = onnx::Conv[dilations=[1, 1], group=1, kernel_shape=[3, 3], pads=[1, 1, 1, 1], strides=[1, 1]](%58, %conv3_2.weight, %conv3_2.bias) # /home/oem/.local/lib/python3.8/site-packages/torch/nn/modules/conv.py:439:0\n",
      "  %60 : Float(1, 256, 128, 128, strides=[4194304, 16384, 128, 1], requires_grad=1, device=cpu) = onnx::Relu(%59) # /home/oem/.local/lib/python3.8/site-packages/torch/nn/functional.py:1296:0\n",
      "  %61 : Float(1, 256, 64, 64, strides=[1048576, 4096, 64, 1], requires_grad=1, device=cpu) = onnx::MaxPool[kernel_shape=[2, 2], pads=[0, 0, 0, 0], strides=[2, 2]](%60) # /home/oem/.local/lib/python3.8/site-packages/torch/nn/functional.py:718:0\n",
      "  %62 : Float(1, 512, 64, 64, strides=[2097152, 4096, 64, 1], requires_grad=1, device=cpu) = onnx::Conv[dilations=[1, 1], group=1, kernel_shape=[3, 3], pads=[1, 1, 1, 1], strides=[1, 1]](%61, %conv4_1.weight, %conv4_1.bias) # /home/oem/.local/lib/python3.8/site-packages/torch/nn/modules/conv.py:439:0\n",
      "  %63 : Float(1, 512, 64, 64, strides=[2097152, 4096, 64, 1], requires_grad=1, device=cpu) = onnx::Relu(%62) # /home/oem/.local/lib/python3.8/site-packages/torch/nn/functional.py:1296:0\n",
      "  %64 : Float(1, 512, 64, 64, strides=[2097152, 4096, 64, 1], requires_grad=1, device=cpu) = onnx::Conv[dilations=[1, 1], group=1, kernel_shape=[3, 3], pads=[1, 1, 1, 1], strides=[1, 1]](%63, %conv4_2.weight, %conv4_2.bias) # /home/oem/.local/lib/python3.8/site-packages/torch/nn/modules/conv.py:439:0\n",
      "  %65 : Float(1, 512, 64, 64, strides=[2097152, 4096, 64, 1], requires_grad=1, device=cpu) = onnx::Relu(%64) # /home/oem/.local/lib/python3.8/site-packages/torch/nn/functional.py:1296:0\n",
      "  %66 : Float(1, 512, 32, 32, strides=[524288, 1024, 32, 1], requires_grad=1, device=cpu) = onnx::MaxPool[kernel_shape=[2, 2], pads=[0, 0, 0, 0], strides=[2, 2]](%65) # /home/oem/.local/lib/python3.8/site-packages/torch/nn/functional.py:718:0\n",
      "  %67 : Float(1, 1024, 32, 32, strides=[1048576, 1024, 32, 1], requires_grad=1, device=cpu) = onnx::Conv[dilations=[1, 1], group=1, kernel_shape=[3, 3], pads=[1, 1, 1, 1], strides=[1, 1]](%66, %conv5_1.weight, %conv5_1.bias) # /home/oem/.local/lib/python3.8/site-packages/torch/nn/modules/conv.py:439:0\n",
      "  %68 : Float(1, 1024, 32, 32, strides=[1048576, 1024, 32, 1], requires_grad=1, device=cpu) = onnx::Relu(%67) # /home/oem/.local/lib/python3.8/site-packages/torch/nn/functional.py:1296:0\n",
      "  %69 : Float(1, 1024, 32, 32, strides=[1048576, 1024, 32, 1], requires_grad=1, device=cpu) = onnx::Conv[dilations=[1, 1], group=1, kernel_shape=[3, 3], pads=[1, 1, 1, 1], strides=[1, 1]](%68, %conv5_2.weight, %conv5_2.bias) # /home/oem/.local/lib/python3.8/site-packages/torch/nn/modules/conv.py:439:0\n",
      "  %70 : Float(1, 1024, 32, 32, strides=[1048576, 1024, 32, 1], requires_grad=1, device=cpu) = onnx::Relu(%69) # /home/oem/.local/lib/python3.8/site-packages/torch/nn/functional.py:1296:0\n",
      "  %71 : Float(1, 512, 64, 64, strides=[2097152, 4096, 64, 1], requires_grad=1, device=cpu) = onnx::ConvTranspose[dilations=[1, 1], group=1, kernel_shape=[2, 2], pads=[0, 0, 0, 0], strides=[2, 2]](%70, %deconv1_1.weight, %deconv1_1.bias) # /home/oem/.local/lib/python3.8/site-packages/torch/nn/modules/conv.py:916:0\n",
      "  %72 : Float(1, 1024, 64, 64, strides=[4194304, 4096, 64, 1], requires_grad=1, device=cpu) = onnx::Concat[axis=1](%65, %71) # /home/oem/Documents/GoogleStreetSegmentation/www/models/UNet_CE/model.py:123:0\n",
      "  %73 : Float(1, 512, 64, 64, strides=[2097152, 4096, 64, 1], requires_grad=1, device=cpu) = onnx::Conv[dilations=[1, 1], group=1, kernel_shape=[3, 3], pads=[1, 1, 1, 1], strides=[1, 1]](%72, %iconv1_1.weight, %iconv1_1.bias) # /home/oem/.local/lib/python3.8/site-packages/torch/nn/modules/conv.py:439:0\n",
      "  %74 : Float(1, 512, 64, 64, strides=[2097152, 4096, 64, 1], requires_grad=1, device=cpu) = onnx::Relu(%73) # /home/oem/.local/lib/python3.8/site-packages/torch/nn/functional.py:1296:0\n",
      "  %75 : Float(1, 512, 64, 64, strides=[2097152, 4096, 64, 1], requires_grad=1, device=cpu) = onnx::Conv[dilations=[1, 1], group=1, kernel_shape=[3, 3], pads=[1, 1, 1, 1], strides=[1, 1]](%74, %iconv1_2.weight, %iconv1_2.bias) # /home/oem/.local/lib/python3.8/site-packages/torch/nn/modules/conv.py:439:0\n",
      "  %76 : Float(1, 512, 64, 64, strides=[2097152, 4096, 64, 1], requires_grad=1, device=cpu) = onnx::Relu(%75) # /home/oem/.local/lib/python3.8/site-packages/torch/nn/functional.py:1296:0\n",
      "  %77 : Float(1, 256, 128, 128, strides=[4194304, 16384, 128, 1], requires_grad=1, device=cpu) = onnx::ConvTranspose[dilations=[1, 1], group=1, kernel_shape=[2, 2], pads=[0, 0, 0, 0], strides=[2, 2]](%76, %deconv2_1.weight, %deconv2_1.bias) # /home/oem/.local/lib/python3.8/site-packages/torch/nn/modules/conv.py:916:0\n",
      "  %78 : Float(1, 512, 128, 128, strides=[8388608, 16384, 128, 1], requires_grad=1, device=cpu) = onnx::Concat[axis=1](%60, %77) # /home/oem/Documents/GoogleStreetSegmentation/www/models/UNet_CE/model.py:129:0\n",
      "  %79 : Float(1, 256, 128, 128, strides=[4194304, 16384, 128, 1], requires_grad=1, device=cpu) = onnx::Conv[dilations=[1, 1], group=1, kernel_shape=[3, 3], pads=[1, 1, 1, 1], strides=[1, 1]](%78, %iconv2_1.weight, %iconv2_1.bias) # /home/oem/.local/lib/python3.8/site-packages/torch/nn/modules/conv.py:439:0\n",
      "  %80 : Float(1, 256, 128, 128, strides=[4194304, 16384, 128, 1], requires_grad=1, device=cpu) = onnx::Relu(%79) # /home/oem/.local/lib/python3.8/site-packages/torch/nn/functional.py:1296:0\n",
      "  %81 : Float(1, 256, 128, 128, strides=[4194304, 16384, 128, 1], requires_grad=1, device=cpu) = onnx::Conv[dilations=[1, 1], group=1, kernel_shape=[3, 3], pads=[1, 1, 1, 1], strides=[1, 1]](%80, %iconv2_2.weight, %iconv2_2.bias) # /home/oem/.local/lib/python3.8/site-packages/torch/nn/modules/conv.py:439:0\n",
      "  %82 : Float(1, 256, 128, 128, strides=[4194304, 16384, 128, 1], requires_grad=1, device=cpu) = onnx::Relu(%81) # /home/oem/.local/lib/python3.8/site-packages/torch/nn/functional.py:1296:0\n",
      "  %83 : Float(1, 128, 256, 256, strides=[8388608, 65536, 256, 1], requires_grad=1, device=cpu) = onnx::ConvTranspose[dilations=[1, 1], group=1, kernel_shape=[2, 2], pads=[0, 0, 0, 0], strides=[2, 2]](%82, %deconv3_1.weight, %deconv3_1.bias) # /home/oem/.local/lib/python3.8/site-packages/torch/nn/modules/conv.py:916:0\n",
      "  %84 : Float(1, 256, 256, 256, strides=[16777216, 65536, 256, 1], requires_grad=1, device=cpu) = onnx::Concat[axis=1](%55, %83) # /home/oem/Documents/GoogleStreetSegmentation/www/models/UNet_CE/model.py:135:0\n",
      "  %85 : Float(1, 128, 256, 256, strides=[8388608, 65536, 256, 1], requires_grad=1, device=cpu) = onnx::Conv[dilations=[1, 1], group=1, kernel_shape=[3, 3], pads=[1, 1, 1, 1], strides=[1, 1]](%84, %iconv3_1.weight, %iconv3_1.bias) # /home/oem/.local/lib/python3.8/site-packages/torch/nn/modules/conv.py:439:0\n",
      "  %86 : Float(1, 128, 256, 256, strides=[8388608, 65536, 256, 1], requires_grad=1, device=cpu) = onnx::Relu(%85) # /home/oem/.local/lib/python3.8/site-packages/torch/nn/functional.py:1296:0\n",
      "  %87 : Float(1, 128, 256, 256, strides=[8388608, 65536, 256, 1], requires_grad=1, device=cpu) = onnx::Conv[dilations=[1, 1], group=1, kernel_shape=[3, 3], pads=[1, 1, 1, 1], strides=[1, 1]](%86, %iconv3_2.weight, %iconv3_2.bias) # /home/oem/.local/lib/python3.8/site-packages/torch/nn/modules/conv.py:439:0\n",
      "  %88 : Float(1, 128, 256, 256, strides=[8388608, 65536, 256, 1], requires_grad=1, device=cpu) = onnx::Relu(%87) # /home/oem/.local/lib/python3.8/site-packages/torch/nn/functional.py:1296:0\n",
      "  %89 : Float(1, 64, 512, 512, strides=[16777216, 262144, 512, 1], requires_grad=1, device=cpu) = onnx::ConvTranspose[dilations=[1, 1], group=1, kernel_shape=[2, 2], pads=[0, 0, 0, 0], strides=[2, 2]](%88, %deconv4_1.weight, %deconv4_1.bias) # /home/oem/.local/lib/python3.8/site-packages/torch/nn/modules/conv.py:916:0\n",
      "  %90 : Float(1, 128, 512, 512, strides=[33554432, 262144, 512, 1], requires_grad=1, device=cpu) = onnx::Concat[axis=1](%50, %89) # /home/oem/Documents/GoogleStreetSegmentation/www/models/UNet_CE/model.py:141:0\n",
      "  %91 : Float(1, 64, 512, 512, strides=[16777216, 262144, 512, 1], requires_grad=1, device=cpu) = onnx::Conv[dilations=[1, 1], group=1, kernel_shape=[3, 3], pads=[1, 1, 1, 1], strides=[1, 1]](%90, %iconv4_1.weight, %iconv4_1.bias) # /home/oem/.local/lib/python3.8/site-packages/torch/nn/modules/conv.py:439:0\n",
      "  %92 : Float(1, 64, 512, 512, strides=[16777216, 262144, 512, 1], requires_grad=1, device=cpu) = onnx::Relu(%91) # /home/oem/.local/lib/python3.8/site-packages/torch/nn/functional.py:1296:0\n",
      "  %93 : Float(1, 64, 512, 512, strides=[16777216, 262144, 512, 1], requires_grad=1, device=cpu) = onnx::Conv[dilations=[1, 1], group=1, kernel_shape=[3, 3], pads=[1, 1, 1, 1], strides=[1, 1]](%92, %iconv4_2.weight, %iconv4_2.bias) # /home/oem/.local/lib/python3.8/site-packages/torch/nn/modules/conv.py:439:0\n",
      "  %94 : Float(1, 64, 512, 512, strides=[16777216, 262144, 512, 1], requires_grad=1, device=cpu) = onnx::Relu(%93) # /home/oem/.local/lib/python3.8/site-packages/torch/nn/functional.py:1296:0\n",
      "  %95 : Float(1, 27, 512, 512, strides=[7077888, 262144, 512, 1], requires_grad=1, device=cpu) = onnx::Conv[dilations=[1, 1], group=1, kernel_shape=[1, 1], pads=[0, 0, 0, 0], strides=[1, 1]](%94, %classifier.weight, %classifier.bias) # /home/oem/.local/lib/python3.8/site-packages/torch/nn/modules/conv.py:439:0\n",
      "  return (%95)\n",
      "\n"
     ]
    }
   ],
   "source": [
    "dummy_input = torch.zeros([1,3,512,512])\n",
    "torch.onnx.export(model, dummy_input, f\"models/{curr}/model.onnx\", \n",
    "                  verbose=True)"
   ]
  },
  {
   "cell_type": "markdown",
   "id": "ad455859",
   "metadata": {},
   "source": [
    "# Convert to TF"
   ]
  },
  {
   "cell_type": "code",
   "execution_count": 3,
   "id": "3c55afec",
   "metadata": {},
   "outputs": [],
   "source": [
    "import onnx\n",
    "from onnx_tf.backend import prepare\n",
    "import tensorflow as tf\n",
    "\n"
   ]
  },
  {
   "cell_type": "code",
   "execution_count": 6,
   "id": "b08dbc42",
   "metadata": {},
   "outputs": [
    {
     "name": "stderr",
     "output_type": "stream",
     "text": [
      "WARNING:absl:Function `__call__` contains input name(s) input.1 with unsupported characters which will be renamed to input_1 in the SavedModel.\n",
      "WARNING:absl:Found untraced functions such as gen_tensor_dict while saving (showing 1 of 1). These functions will not be directly callable after loading.\n"
     ]
    },
    {
     "name": "stdout",
     "output_type": "stream",
     "text": [
      "INFO:tensorflow:Assets written to: output/modelUNet_CE.pb/assets\n"
     ]
    },
    {
     "name": "stderr",
     "output_type": "stream",
     "text": [
      "INFO:tensorflow:Assets written to: output/modelUNet_CE.pb/assets\n"
     ]
    }
   ],
   "source": [
    "onnx_model = onnx.load(f\"models/{curr}/model.onnx\")\n",
    "tf_rep = prepare(onnx_model)\n",
    "tf_rep.export_graph(f\"output/model{curr}.pb\")"
   ]
  },
  {
   "cell_type": "code",
   "execution_count": 7,
   "id": "63f8bcf7",
   "metadata": {},
   "outputs": [
    {
     "name": "stderr",
     "output_type": "stream",
     "text": [
      "2021-12-05 00:00:33.636230: W tensorflow/stream_executor/platform/default/dso_loader.cc:64] Could not load dynamic library 'libcudart.so.11.0'; dlerror: libcudart.so.11.0: cannot open shared object file: No such file or directory\n",
      "2021-12-05 00:00:33.636255: I tensorflow/stream_executor/cuda/cudart_stub.cc:29] Ignore above cudart dlerror if you do not have a GPU set up on your machine.\n",
      "2021-12-05 00:00:34.692259: I tensorflow/stream_executor/cuda/cuda_gpu_executor.cc:937] successful NUMA node read from SysFS had negative value (-1), but there must be at least one NUMA node, so returning NUMA node zero\n",
      "2021-12-05 00:00:34.692902: W tensorflow/stream_executor/platform/default/dso_loader.cc:64] Could not load dynamic library 'libcudart.so.11.0'; dlerror: libcudart.so.11.0: cannot open shared object file: No such file or directory\n",
      "2021-12-05 00:00:34.692945: W tensorflow/stream_executor/platform/default/dso_loader.cc:64] Could not load dynamic library 'libcublas.so.11'; dlerror: libcublas.so.11: cannot open shared object file: No such file or directory\n",
      "2021-12-05 00:00:34.692978: W tensorflow/stream_executor/platform/default/dso_loader.cc:64] Could not load dynamic library 'libcublasLt.so.11'; dlerror: libcublasLt.so.11: cannot open shared object file: No such file or directory\n",
      "2021-12-05 00:00:34.693011: W tensorflow/stream_executor/platform/default/dso_loader.cc:64] Could not load dynamic library 'libcufft.so.10'; dlerror: libcufft.so.10: cannot open shared object file: No such file or directory\n",
      "2021-12-05 00:00:34.693044: W tensorflow/stream_executor/platform/default/dso_loader.cc:64] Could not load dynamic library 'libcurand.so.10'; dlerror: libcurand.so.10: cannot open shared object file: No such file or directory\n",
      "2021-12-05 00:00:34.693082: W tensorflow/stream_executor/platform/default/dso_loader.cc:64] Could not load dynamic library 'libcusolver.so.11'; dlerror: libcusolver.so.11: cannot open shared object file: No such file or directory\n",
      "2021-12-05 00:00:34.693114: W tensorflow/stream_executor/platform/default/dso_loader.cc:64] Could not load dynamic library 'libcusparse.so.11'; dlerror: libcusparse.so.11: cannot open shared object file: No such file or directory\n",
      "2021-12-05 00:00:34.693147: W tensorflow/stream_executor/platform/default/dso_loader.cc:64] Could not load dynamic library 'libcudnn.so.8'; dlerror: libcudnn.so.8: cannot open shared object file: No such file or directory\n",
      "2021-12-05 00:00:34.693154: W tensorflow/core/common_runtime/gpu/gpu_device.cc:1835] Cannot dlopen some GPU libraries. Please make sure the missing libraries mentioned above are installed properly if you would like to use GPU. Follow the guide at https://www.tensorflow.org/install/gpu for how to download and setup the required libraries for your platform.\n",
      "Skipping registering GPU devices...\n",
      "2021-12-05 00:00:34.693322: I tensorflow/core/platform/cpu_feature_guard.cc:142] This TensorFlow binary is optimized with oneAPI Deep Neural Network Library (oneDNN) to use the following CPU instructions in performance-critical operations:  AVX2 FMA\n",
      "To enable them in other operations, rebuild TensorFlow with the appropriate compiler flags.\n",
      "2021-12-05 00:00:34.856473: I tensorflow/stream_executor/cuda/cuda_gpu_executor.cc:937] successful NUMA node read from SysFS had negative value (-1), but there must be at least one NUMA node, so returning NUMA node zero\n",
      "2021-12-05 00:00:34.856928: I tensorflow/core/grappler/devices.cc:66] Number of eligible GPUs (core count >= 8, compute capability >= 0.0): 1\n",
      "2021-12-05 00:00:34.857026: I tensorflow/core/grappler/clusters/single_machine.cc:357] Starting new session\n",
      "2021-12-05 00:00:34.857357: I tensorflow/stream_executor/cuda/cuda_gpu_executor.cc:937] successful NUMA node read from SysFS had negative value (-1), but there must be at least one NUMA node, so returning NUMA node zero\n",
      "2021-12-05 00:00:34.857746: W tensorflow/core/common_runtime/gpu/gpu_device.cc:1835] Cannot dlopen some GPU libraries. Please make sure the missing libraries mentioned above are installed properly if you would like to use GPU. Follow the guide at https://www.tensorflow.org/install/gpu for how to download and setup the required libraries for your platform.\n",
      "Skipping registering GPU devices...\n",
      "2021-12-05 00:00:34.974232: I tensorflow/core/grappler/optimizers/meta_optimizer.cc:1137] Optimization results for grappler item: graph_to_optimize\n",
      "  function_optimizer: Graph size after: 471 nodes (422), 451 edges (403), time = 7.808ms.\n",
      "  function_optimizer: function_optimizer did nothing. time = 0.148ms.\n",
      "\n",
      "2021-12-05 00:00:36.686299: I tensorflow/core/grappler/optimizers/meta_optimizer.cc:1137] Optimization results for grappler item: graph_to_optimize\n",
      "  debug_stripper: debug_stripper did nothing. time = 0.035ms.\n",
      "  model_pruner: Graph size after: 376 nodes (-72), 379 edges (-72), time = 1.335ms.\n",
      "  constant_folding: Graph size after: 284 nodes (-92), 287 edges (-92), time = 314.785ms.\n",
      "  arithmetic_optimizer: Graph size after: 284 nodes (0), 287 edges (0), time = 35.011ms.\n",
      "  dependency_optimizer: Graph size after: 272 nodes (-12), 275 edges (-12), time = 16.859ms.\n",
      "  model_pruner: Graph size after: 272 nodes (0), 275 edges (0), time = 16.432ms.\n",
      "  constant_folding: Graph size after: 272 nodes (0), 275 edges (0), time = 56.564ms.\n",
      "  arithmetic_optimizer: Graph size after: 272 nodes (0), 275 edges (0), time = 36.404ms.\n",
      "  dependency_optimizer: Graph size after: 272 nodes (0), 275 edges (0), time = 16.916ms.\n",
      "  debug_stripper: debug_stripper did nothing. time = 0.923ms.\n",
      "  model_pruner: Graph size after: 272 nodes (0), 275 edges (0), time = 15.659ms.\n",
      "  constant_folding: Graph size after: 272 nodes (0), 275 edges (0), time = 58.422ms.\n",
      "  arithmetic_optimizer: Graph size after: 272 nodes (0), 275 edges (0), time = 36.82ms.\n",
      "  dependency_optimizer: Graph size after: 272 nodes (0), 275 edges (0), time = 17.056ms.\n",
      "  model_pruner: Graph size after: 272 nodes (0), 275 edges (0), time = 16.632ms.\n",
      "  constant_folding: Graph size after: 272 nodes (0), 275 edges (0), time = 58.543ms.\n",
      "  arithmetic_optimizer: Graph size after: 272 nodes (0), 275 edges (0), time = 36.826ms.\n",
      "  dependency_optimizer: Graph size after: 272 nodes (0), 275 edges (0), time = 16.978ms.\n",
      "\n",
      "2021-12-05 00:00:39.366858: I tensorflow/core/grappler/optimizers/meta_optimizer.cc:1137] Optimization results for grappler item: graph_to_optimize\n",
      "  remapper: Graph size after: 272 nodes (0), 275 edges (0), time = 24.951ms.\n",
      "  constant_folding: Graph size after: 272 nodes (0), 275 edges (0), time = 60.074ms.\n",
      "  arithmetic_optimizer: Graph size after: 272 nodes (0), 275 edges (0), time = 47.182ms.\n",
      "  dependency_optimizer: Graph size after: 272 nodes (0), 275 edges (0), time = 16.811ms.\n",
      "  remapper: Graph size after: 272 nodes (0), 275 edges (0), time = 28.075ms.\n",
      "  constant_folding: Graph size after: 272 nodes (0), 275 edges (0), time = 60.343ms.\n",
      "  arithmetic_optimizer: Graph size after: 272 nodes (0), 275 edges (0), time = 47.696ms.\n",
      "  dependency_optimizer: Graph size after: 272 nodes (0), 275 edges (0), time = 16.852ms.\n",
      "\n"
     ]
    },
    {
     "name": "stdout",
     "output_type": "stream",
     "text": [
      "Writing weight file output/modelUNet_CE.pb/model.json...\n"
     ]
    },
    {
     "data": {
      "text/plain": [
       "0"
      ]
     },
     "execution_count": 7,
     "metadata": {},
     "output_type": "execute_result"
    }
   ],
   "source": [
    "cmd = f\"tensorflowjs_converter --input_format=tf_saved_model  output/model{curr}.pb output/model{curr}.pb\"\n",
    "os.system(cmd)"
   ]
  },
  {
   "cell_type": "code",
   "execution_count": null,
   "id": "ebc34dac",
   "metadata": {},
   "outputs": [],
   "source": []
  }
 ],
 "metadata": {
  "kernelspec": {
   "display_name": "Python 3 (ipykernel)",
   "language": "python",
   "name": "python3"
  },
  "language_info": {
   "codemirror_mode": {
    "name": "ipython",
    "version": 3
   },
   "file_extension": ".py",
   "mimetype": "text/x-python",
   "name": "python",
   "nbconvert_exporter": "python",
   "pygments_lexer": "ipython3",
   "version": "3.8.10"
  }
 },
 "nbformat": 4,
 "nbformat_minor": 5
}
